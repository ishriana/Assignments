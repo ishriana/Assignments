{
 "cells": [
  {
   "cell_type": "markdown",
   "id": "smaller-tiffany",
   "metadata": {},
   "source": [
    "# Classification of glasses using K nearest neighbours"
   ]
  },
  {
   "cell_type": "code",
   "execution_count": 15,
   "id": "willing-mainland",
   "metadata": {},
   "outputs": [],
   "source": [
    "import pandas as pd\n",
    "from sklearn.preprocessing import StandardScaler\n",
    "from sklearn.neighbors import KNeighborsClassifier\n",
    "from sklearn.metrics import confusion_matrix,accuracy_score\n",
    "from sklearn.ensemble import BaggingClassifier\n",
    "from sklearn.ensemble import AdaBoostClassifier"
   ]
  },
  {
   "cell_type": "code",
   "execution_count": 2,
   "id": "athletic-journalism",
   "metadata": {},
   "outputs": [],
   "source": [
    "df1 = pd.read_csv('C:\\\\Users\\\\ADMIN11\\\\Desktop\\csv\\\\Assignment 10-16\\\\Assignment 10\\\\trainKNN.csv')\n",
    "df2 = pd.read_csv('C:\\\\Users\\\\ADMIN11\\\\Desktop\\csv\\\\Assignment 10-16\\\\Assignment 10\\\\testKNN.csv')"
   ]
  },
  {
   "cell_type": "code",
   "execution_count": 3,
   "id": "graphic-devices",
   "metadata": {},
   "outputs": [
    {
     "data": {
      "text/plain": [
       "(196, 11)"
      ]
     },
     "execution_count": 3,
     "metadata": {},
     "output_type": "execute_result"
    }
   ],
   "source": [
    "df1.shape"
   ]
  },
  {
   "cell_type": "code",
   "execution_count": 4,
   "id": "contemporary-stamp",
   "metadata": {},
   "outputs": [
    {
     "data": {
      "text/html": [
       "<div>\n",
       "<style scoped>\n",
       "    .dataframe tbody tr th:only-of-type {\n",
       "        vertical-align: middle;\n",
       "    }\n",
       "\n",
       "    .dataframe tbody tr th {\n",
       "        vertical-align: top;\n",
       "    }\n",
       "\n",
       "    .dataframe thead th {\n",
       "        text-align: right;\n",
       "    }\n",
       "</style>\n",
       "<table border=\"1\" class=\"dataframe\">\n",
       "  <thead>\n",
       "    <tr style=\"text-align: right;\">\n",
       "      <th></th>\n",
       "      <th>Id</th>\n",
       "      <th>Refractive Index</th>\n",
       "      <th>Na</th>\n",
       "      <th>Mg</th>\n",
       "      <th>Al</th>\n",
       "      <th>Si</th>\n",
       "      <th>K</th>\n",
       "      <th>Ca</th>\n",
       "      <th>Ba</th>\n",
       "      <th>Fe</th>\n",
       "      <th>Target</th>\n",
       "    </tr>\n",
       "  </thead>\n",
       "  <tbody>\n",
       "    <tr>\n",
       "      <th>count</th>\n",
       "      <td>196.000000</td>\n",
       "      <td>196.000000</td>\n",
       "      <td>196.000000</td>\n",
       "      <td>196.000000</td>\n",
       "      <td>196.000000</td>\n",
       "      <td>196.000000</td>\n",
       "      <td>196.000000</td>\n",
       "      <td>196.000000</td>\n",
       "      <td>196.000000</td>\n",
       "      <td>196.000000</td>\n",
       "      <td>196.000000</td>\n",
       "    </tr>\n",
       "    <tr>\n",
       "      <th>mean</th>\n",
       "      <td>102.862245</td>\n",
       "      <td>1.518295</td>\n",
       "      <td>13.375204</td>\n",
       "      <td>2.758980</td>\n",
       "      <td>1.454337</td>\n",
       "      <td>72.635408</td>\n",
       "      <td>0.519388</td>\n",
       "      <td>8.910714</td>\n",
       "      <td>0.164235</td>\n",
       "      <td>0.050255</td>\n",
       "      <td>2.668367</td>\n",
       "    </tr>\n",
       "    <tr>\n",
       "      <th>std</th>\n",
       "      <td>61.195663</td>\n",
       "      <td>0.003055</td>\n",
       "      <td>0.783145</td>\n",
       "      <td>1.392641</td>\n",
       "      <td>0.491688</td>\n",
       "      <td>0.763578</td>\n",
       "      <td>0.672703</td>\n",
       "      <td>1.421490</td>\n",
       "      <td>0.485198</td>\n",
       "      <td>0.086359</td>\n",
       "      <td>2.062416</td>\n",
       "    </tr>\n",
       "    <tr>\n",
       "      <th>min</th>\n",
       "      <td>1.000000</td>\n",
       "      <td>1.511310</td>\n",
       "      <td>10.730000</td>\n",
       "      <td>0.000000</td>\n",
       "      <td>0.290000</td>\n",
       "      <td>69.810000</td>\n",
       "      <td>0.000000</td>\n",
       "      <td>5.430000</td>\n",
       "      <td>0.000000</td>\n",
       "      <td>0.000000</td>\n",
       "      <td>1.000000</td>\n",
       "    </tr>\n",
       "    <tr>\n",
       "      <th>25%</th>\n",
       "      <td>49.750000</td>\n",
       "      <td>1.516457</td>\n",
       "      <td>12.877500</td>\n",
       "      <td>2.362500</td>\n",
       "      <td>1.190000</td>\n",
       "      <td>72.317500</td>\n",
       "      <td>0.140000</td>\n",
       "      <td>8.220000</td>\n",
       "      <td>0.000000</td>\n",
       "      <td>0.000000</td>\n",
       "      <td>1.000000</td>\n",
       "    </tr>\n",
       "    <tr>\n",
       "      <th>50%</th>\n",
       "      <td>101.500000</td>\n",
       "      <td>1.517630</td>\n",
       "      <td>13.280000</td>\n",
       "      <td>3.480000</td>\n",
       "      <td>1.360000</td>\n",
       "      <td>72.810000</td>\n",
       "      <td>0.560000</td>\n",
       "      <td>8.575000</td>\n",
       "      <td>0.000000</td>\n",
       "      <td>0.000000</td>\n",
       "      <td>2.000000</td>\n",
       "    </tr>\n",
       "    <tr>\n",
       "      <th>75%</th>\n",
       "      <td>153.250000</td>\n",
       "      <td>1.518985</td>\n",
       "      <td>13.792500</td>\n",
       "      <td>3.610000</td>\n",
       "      <td>1.622500</td>\n",
       "      <td>73.080000</td>\n",
       "      <td>0.610000</td>\n",
       "      <td>9.092500</td>\n",
       "      <td>0.000000</td>\n",
       "      <td>0.090000</td>\n",
       "      <td>3.000000</td>\n",
       "    </tr>\n",
       "    <tr>\n",
       "      <th>max</th>\n",
       "      <td>211.000000</td>\n",
       "      <td>1.533930</td>\n",
       "      <td>15.790000</td>\n",
       "      <td>4.490000</td>\n",
       "      <td>3.500000</td>\n",
       "      <td>75.180000</td>\n",
       "      <td>6.210000</td>\n",
       "      <td>16.190000</td>\n",
       "      <td>3.150000</td>\n",
       "      <td>0.340000</td>\n",
       "      <td>7.000000</td>\n",
       "    </tr>\n",
       "  </tbody>\n",
       "</table>\n",
       "</div>"
      ],
      "text/plain": [
       "               Id  Refractive Index          Na          Mg          Al  \\\n",
       "count  196.000000        196.000000  196.000000  196.000000  196.000000   \n",
       "mean   102.862245          1.518295   13.375204    2.758980    1.454337   \n",
       "std     61.195663          0.003055    0.783145    1.392641    0.491688   \n",
       "min      1.000000          1.511310   10.730000    0.000000    0.290000   \n",
       "25%     49.750000          1.516457   12.877500    2.362500    1.190000   \n",
       "50%    101.500000          1.517630   13.280000    3.480000    1.360000   \n",
       "75%    153.250000          1.518985   13.792500    3.610000    1.622500   \n",
       "max    211.000000          1.533930   15.790000    4.490000    3.500000   \n",
       "\n",
       "               Si           K          Ca          Ba          Fe      Target  \n",
       "count  196.000000  196.000000  196.000000  196.000000  196.000000  196.000000  \n",
       "mean    72.635408    0.519388    8.910714    0.164235    0.050255    2.668367  \n",
       "std      0.763578    0.672703    1.421490    0.485198    0.086359    2.062416  \n",
       "min     69.810000    0.000000    5.430000    0.000000    0.000000    1.000000  \n",
       "25%     72.317500    0.140000    8.220000    0.000000    0.000000    1.000000  \n",
       "50%     72.810000    0.560000    8.575000    0.000000    0.000000    2.000000  \n",
       "75%     73.080000    0.610000    9.092500    0.000000    0.090000    3.000000  \n",
       "max     75.180000    6.210000   16.190000    3.150000    0.340000    7.000000  "
      ]
     },
     "execution_count": 4,
     "metadata": {},
     "output_type": "execute_result"
    }
   ],
   "source": [
    "df1.describe()"
   ]
  },
  {
   "cell_type": "code",
   "execution_count": 5,
   "id": "outstanding-refrigerator",
   "metadata": {},
   "outputs": [
    {
     "data": {
      "text/plain": [
       "(18, 11)"
      ]
     },
     "execution_count": 5,
     "metadata": {},
     "output_type": "execute_result"
    }
   ],
   "source": [
    "df2.shape"
   ]
  },
  {
   "cell_type": "code",
   "execution_count": 6,
   "id": "viral-percentage",
   "metadata": {},
   "outputs": [],
   "source": [
    "x_train = df1.iloc[:,:-1].values\n",
    "y_train = df1.iloc[:,-1].values"
   ]
  },
  {
   "cell_type": "code",
   "execution_count": 7,
   "id": "illegal-telephone",
   "metadata": {},
   "outputs": [],
   "source": [
    "x_test = df2.iloc[:,:-1].values\n",
    "y_test = df2.iloc[:,-1].values"
   ]
  },
  {
   "cell_type": "raw",
   "id": "adverse-cooper",
   "metadata": {},
   "source": [
    "scaler = StandardScaler()\n",
    "x_train = scaler.fit(x_train)\n",
    "x_test = scaler.fit_transform(x_test)"
   ]
  },
  {
   "cell_type": "code",
   "execution_count": 8,
   "id": "convenient-combine",
   "metadata": {},
   "outputs": [
    {
     "data": {
      "text/plain": [
       "KNeighborsClassifier()"
      ]
     },
     "execution_count": 8,
     "metadata": {},
     "output_type": "execute_result"
    }
   ],
   "source": [
    "classifier = KNeighborsClassifier(n_neighbors=5,metric='minkowski', p=2)\n",
    "classifier.fit(x_train,y_train)"
   ]
  },
  {
   "cell_type": "code",
   "execution_count": 9,
   "id": "final-control",
   "metadata": {},
   "outputs": [],
   "source": [
    "y_pred = classifier.predict(x_test)"
   ]
  },
  {
   "cell_type": "code",
   "execution_count": 10,
   "id": "virgin-crossing",
   "metadata": {},
   "outputs": [
    {
     "name": "stdout",
     "output_type": "stream",
     "text": [
      "[[2 1 0 0 0 0]\n",
      " [0 1 2 0 0 0]\n",
      " [0 0 3 0 0 0]\n",
      " [0 0 0 1 2 0]\n",
      " [0 0 0 0 2 1]\n",
      " [0 0 0 0 0 3]]\n",
      "0.6666666666666666\n"
     ]
    }
   ],
   "source": [
    "cm = confusion_matrix(y_test,y_pred)\n",
    "ascore = accuracy_score(y_test,y_pred)\n",
    "print(cm)\n",
    "print(ascore)"
   ]
  },
  {
   "cell_type": "markdown",
   "id": "alive-spell",
   "metadata": {},
   "source": [
    "# Classification using Ensemble technique"
   ]
  },
  {
   "cell_type": "code",
   "execution_count": 14,
   "id": "changing-fundamentals",
   "metadata": {},
   "outputs": [
    {
     "name": "stdout",
     "output_type": "stream",
     "text": [
      "Score using Ensemble Technique: 0.7777777777777778\n"
     ]
    }
   ],
   "source": [
    "bag_clf = BaggingClassifier(KNeighborsClassifier(),n_estimators =500,n_jobs=-1,bootstrap=True,oob_score=True,max_features=0.7)\n",
    "bag_clf.fit(x_train,y_train)\n",
    "y_pred1 = bag_clf.predict(x_test)\n",
    "print(\"Score using Ensemble Technique:\",accuracy_score(y_test,y_pred1))"
   ]
  },
  {
   "cell_type": "code",
   "execution_count": null,
   "id": "twenty-equivalent",
   "metadata": {},
   "outputs": [],
   "source": []
  }
 ],
 "metadata": {
  "kernelspec": {
   "display_name": "Python 3",
   "language": "python",
   "name": "python3"
  },
  "language_info": {
   "codemirror_mode": {
    "name": "ipython",
    "version": 3
   },
   "file_extension": ".py",
   "mimetype": "text/x-python",
   "name": "python",
   "nbconvert_exporter": "python",
   "pygments_lexer": "ipython3",
   "version": "3.9.2"
  }
 },
 "nbformat": 4,
 "nbformat_minor": 5
}
